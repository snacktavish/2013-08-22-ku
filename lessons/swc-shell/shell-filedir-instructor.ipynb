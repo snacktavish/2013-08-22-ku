{
 "metadata": {
  "name": "shell-filedir-instructor"
 },
 "nbformat": 3,
 "nbformat_minor": 0,
 "worksheets": [
  {
   "cells": [
    {
     "cell_type": "markdown",
     "metadata": {},
     "source": [
      "# The Unix Shell: Files and Directories (Instructor Version)"
     ]
    },
    {
     "cell_type": "markdown",
     "metadata": {},
     "source": [
      "## Objectives\n",
      "\n",
      "-   Explain the similarities and differences between a file and a\n",
      "    directory.\n",
      "-   Translate an absolute path into a relative path and vice versa.\n",
      "-   Construct absolute and relative paths that identify specific files\n",
      "    and directories.\n",
      "-   Explain the steps in the shell's read-run-print cycle.\n",
      "-   Identify the actual command, flags, and filenames in a command-line\n",
      "    call.\n",
      "-   Demonstrate the use of tab completion, and explain its advantages.\n",
      "\n",
      "**Duration**: 15 minutes (longer if people have trouble getting an editor to work)."
     ]
    },
    {
     "cell_type": "markdown",
     "metadata": {},
     "source": [
      "## Lesson\n",
      "\n",
      "The part of the operating system responsible for managing files and\n",
      "directories is called the [file system](glossary.html#file-system). It\n",
      "organizes our data into files, which hold information, and directories\n",
      "(also called \"folders\"), which hold files or other directories.\n",
      "\n",
      "Several commands are frequently used to create, inspect, rename, and\n",
      "delete files and directories. To start exploring them, let's log in to\n",
      "the computer by typing our user ID and password. Most systems will print\n",
      "stars to obscure the password, or nothing at all, in case some evildoer\n",
      "is shoulder surfing behind us."
     ]
    },
    {
     "cell_type": "markdown",
     "metadata": {},
     "source": [
      "    login: vlad\n",
      "    password: ********\n",
      "    $"
     ]
    },
    {
     "cell_type": "markdown",
     "metadata": {},
     "source": [
      "Once we have logged in we'll see a [prompt](glossary.html#prompt), which\n",
      "is how the shell tells us that it's waiting for input. This is usually\n",
      "just a dollar sign, but which may show extra information such as our\n",
      "user ID or the current time. Type the command `whoami`{.in}, then press\n",
      "the Enter key (sometimes marked Return) to send the command to the\n",
      "shell. The command's output is the ID of the current user, i.e., it\n",
      "shows us who the shell thinks we are:"
     ]
    },
    {
     "cell_type": "markdown",
     "metadata": {},
     "source": [
      "    $ whoami\n",
      "    vlad\n",
      "    $"
     ]
    },
    {
     "cell_type": "markdown",
     "metadata": {},
     "source": [
      "More specifically, when we type `whoami` the shell:\n",
      "\n",
      "1.  finds a program called `whoami`,\n",
      "2.  runs it,\n",
      "3.  waits for it to display its output, and\n",
      "4.  displays a new prompt to tell us that it's ready for more commands.\n",
      "\n",
      "Next, let's find out where we are by running a command called `pwd`\n",
      "(which stands for \"print working directory\"). At any moment, our\n",
      "[current working directory](glossary.html#current-working-directory) is\n",
      "our current default directory, i.e., the directory that the computer\n",
      "assumes we want to run commands in unless we explicitly specify\n",
      "something else. Here, the computer's response is `/users/vlad`,\n",
      "which is Vlad's [home directory](glossary.html#home-directory):"
     ]
    },
    {
     "cell_type": "markdown",
     "metadata": {},
     "source": [
      "    $ pwd\n",
      "    /users/vlad\n",
      "    $"
     ]
    },
    {
     "cell_type": "markdown",
     "metadata": {},
     "source": [
      "### *Alphabet Soup*\n",
      "\n",
      "<em>\n",
      "    If the command to find out *who* we are is `whoami`, the command to find\n",
      "    out *where* we are ought to be called `whereami`, so why is it `pwd`\n",
      "    instead? The usual answer is that in the early 1970s, when Unix was\n",
      "    first being developed, every keystroke counted: the devices of the day\n",
      "    were slow, and backspacing on a teletype was so painful that cutting the\n",
      "    number of keystrokes in order to cut the number of typing mistakes was\n",
      "    actually a win for usability. The reality is that commands were added to\n",
      "    Unix one by one, without any master plan, by people who were immersed in\n",
      "    its jargon. The result is as inconsistent as the roolz uv Inglish\n",
      "    speling, but we're stuck with it now.\n",
      "</em>"
     ]
    },
    {
     "cell_type": "markdown",
     "metadata": {},
     "source": [
      "To understand what a \"home directory\" is, let's have a look at how the\n",
      "file system as a whole is organized:"
     ]
    },
    {
     "cell_type": "markdown",
     "metadata": {},
     "source": [
      "<img src=\"files/filesystem.png\" alt=\"File System\" />"
     ]
    },
    {
     "cell_type": "markdown",
     "metadata": {},
     "source": [
      "At the\n",
      "top is the [root directory](glossary.html#root-directory) that holds\n",
      "everything else the computer is storing. We refer to it using a slash\n",
      "character `/` on its own; this is the leading slash in `/users/vlad`.\n",
      "\n",
      "Inside that directory (or underneath it, if you're drawing a tree) are\n",
      "several other directories: `bin` (which is where some built-in programs\n",
      "are stored), `data` (for miscellaneous data files), `users` (where\n",
      "users' personal directories are located), `tmp` (for temporary files\n",
      "that don't need to be stored long-term), and so on. We know that our\n",
      "current working directory `/users/vlad` is stored inside `/users`\n",
      "because `/users` is the first part of its name. Similarly, we know that\n",
      "`/users` is stored inside the root directory `/` because its name begins\n",
      "with `/`.\n",
      "\n",
      "Underneath `/users`, we find one directory for each user with an account\n",
      "on this machine:"
     ]
    },
    {
     "cell_type": "markdown",
     "metadata": {},
     "source": [
      "<img src=\"files/home_directories.png\" alt=\"Home Directories\" />"
     ]
    },
    {
     "cell_type": "markdown",
     "metadata": {},
     "source": [
      " The Mummy's files are\n",
      "stored in `/users/imhotep`, Wolfman's in `/users/larry`, and ours in\n",
      "`/users/vlad`, which is why `vlad` is the last part of the directory's\n",
      "name. Notice, by the way, that there are two meanings for the `/`\n",
      "character. When it appears at the front of a file or directory name, it\n",
      "refers to the root directory. When it appears *inside* a name, it's just\n",
      "a separator.\n",
      "\n",
      "Let's see what's in Vlad's home directory by running `ls`, which stands\n",
      "for \"listing\":"
     ]
    },
    {
     "cell_type": "markdown",
     "metadata": {},
     "source": [
      "    $ ls\n",
      "    bin          data      mail       music\n",
      "    notes.txt    papers    pizza.cfg  solar\n",
      "    solar.pdf    swc\n",
      "    $"
     ]
    },
    {
     "cell_type": "markdown",
     "metadata": {},
     "source": [
      "`ls` prints the names of the files and directories in the current\n",
      "directory in alphabetical order, arranged neatly into columns. To make\n",
      "its output more comprehensible, we can give it the\n",
      "[flag](glossary.html#command-line-flag) `-F` by typing `ls -F`. This\n",
      "tells `ls` to add a trailing `/` to the names of directories:"
     ]
    },
    {
     "cell_type": "markdown",
     "metadata": {},
     "source": [
      "    $ ls -F\n",
      "    bin/         data/     mail/      music/\n",
      "    notes.txt    papers/   pizza.cfg  solar/\n",
      "    solar.pdf    swc/\n",
      "    $"
     ]
    },
    {
     "cell_type": "markdown",
     "metadata": {},
     "source": [
      "As you can see, `/users/vlad` contains seven\n",
      "[sub-directories](glossary.html#sub-directory). The names that don't have trailing\n",
      "slashes\u2014`notes.txt`, `pizza.cfg`, and `solar.pdf`\u2014are plain old files.\n"
     ]
    },
    {
     "cell_type": "markdown",
     "metadata": {},
     "source": [
      "<img src=\"files/vlad_homedir.png\" alt=\"Vlad's Home Directory\" />"
     ]
    },
    {
     "cell_type": "markdown",
     "metadata": {},
     "source": [
      "### *What's in a Name?*\n",
      "\n",
      "<em>\n",
      "    You may have noticed that all of Vlad's files' names are \"something dot\n",
      "    something\". This is just a convention: we can call a file `mythesis` or\n",
      "    almost anything else we want. However, most people use two-part names\n",
      "    most of the time to help them (and their programs) tell different kinds\n",
      "    of files apart. The second part of such a name is called the [filename\n",
      "    extension](glossary.html#filename-extension), and indicates what type of\n",
      "    data the file holds: `.txt` signals a plain text file, `.pdf` indicates\n",
      "    a PDF document, `.cfg` is a configuration file full of parameters for\n",
      "    some program or other, and so on.\n",
      "</em>\n",
      "\n",
      "<em>\n",
      "    It's important to remember that this is just a convention. Files contain\n",
      "    bytes: it's up to us and our programs to interpret those bytes according\n",
      "    to the rules for PDF documents, images, and so on. For example, naming a\n",
      "    PNG image of a whale as `whale.mp3` doesn't somehow magically turn it\n",
      "    into a recording of whalesong.\n",
      "</em>"
     ]
    },
    {
     "cell_type": "markdown",
     "metadata": {},
     "source": [
      "Now let's take a look at what's in Vlad's `data` directory by running\n",
      "the command `ls -F data`. The second parameter\u2014the one *without* a\n",
      "leading dash\u2014tells `ls` that we want a listing of something other than\n",
      "our current working directory:"
     ]
    },
    {
     "cell_type": "markdown",
     "metadata": {},
     "source": [
      "    $ ls -F data\n",
      "    amino_acids.txt   elements/     morse.txt\n",
      "    pdb/              planets.txt   sunspot.txt\n",
      "    $"
     ]
    },
    {
     "cell_type": "markdown",
     "metadata": {},
     "source": [
      "The output shows us that there are four text files and two\n",
      "sub-sub-directories. Organizing things hierarchically in this way is a\n",
      "good way to keep track of our work: it's possible to put hundreds of\n",
      "files in our home directory, just as it's possible to pile hundreds of\n",
      "printed papers on our desk, but in the long run it's a self-defeating\n",
      "strategy.\n",
      "\n",
      "Notice, by the way that we spelled the directory name `data`. It doesn't\n",
      "have a trailing slash: that's added to directory names by `ls` when we\n",
      "use the `-F` flag to help us tell things apart. And it doesn't begin\n",
      "with a slash because it's a [relative path](glossary.html#relative-path), i.e., it tells `ls` how to find\n",
      "something from where we are, rather than from the root of the file\n",
      "system:"
     ]
    },
    {
     "cell_type": "markdown",
     "metadata": {},
     "source": [
      "<img src=\"files/absolute_relative_path.png\" alt=\"Absolute vs. Relative Paths\" />"
     ]
    },
    {
     "cell_type": "markdown",
     "metadata": {},
     "source": [
      "If we run `ls -F /data` (*with* a leading slash) we get a different\n",
      "answer, because `/data` is an [absolute path](glossary.html#absolute-path):"
     ]
    },
    {
     "cell_type": "markdown",
     "metadata": {},
     "source": [
      "    $ ls -F /data\n",
      "    access.log    backup/    hardware.cfg\n",
      "    network.cfg\n",
      "    $"
     ]
    },
    {
     "cell_type": "markdown",
     "metadata": {},
     "source": [
      "The leading `/` tells the computer to follow the path from the root of\n",
      "the filesystem, so it always refers to exactly one directory, no matter\n",
      "where we are when we run the command.\n",
      "\n",
      "What if we want to change our current working directory? Before we do\n",
      "this, `pwd` shows us that we're in `/users/vlad`, and `ls` without any\n",
      "parameters shows us that directory's contents:"
     ]
    },
    {
     "cell_type": "markdown",
     "metadata": {},
     "source": [
      "    $ pwd\n",
      "    /users/vlad\n",
      "    $ ls\n",
      "    bin/         data/     mail/      music/\n",
      "    notes.txt    papers/   pizza.cfg  solar/\n",
      "    solar.pdf    swc/\n",
      "    $"
     ]
    },
    {
     "cell_type": "markdown",
     "metadata": {},
     "source": [
      "We can use `cd` followed by a directory name to change our working\n",
      "directory. `cd` stands for \"change directory\", which is a bit\n",
      "misleading: the command doesn't change the directory, it changes the\n",
      "shell's idea of what directory we are in."
     ]
    },
    {
     "cell_type": "markdown",
     "metadata": {},
     "source": [
      "    $ cd data\n",
      "    $"
     ]
    },
    {
     "cell_type": "markdown",
     "metadata": {},
     "source": [
      "`cd` doesn't print anything, but if we run `pwd` after it, we can see\n",
      "that we are now in `/users/vlad/data`. If we run `ls` without parameters\n",
      "now, it lists the contents of `/users/vlad/data`, because that's where\n",
      "we now are:"
     ]
    },
    {
     "cell_type": "markdown",
     "metadata": {},
     "source": [
      "    $ pwd\n",
      "    /users/vlad/data\n",
      "    $ ls\n",
      "    amino_acids.txt   elements/     morse.txt\n",
      "    pdb/              planets.txt   sunspot.txt\n",
      "    $"
     ]
    },
    {
     "cell_type": "markdown",
     "metadata": {},
     "source": [
      "OK, we can go down the directory tree: how do we go up? We could use an\n",
      "absolute path:"
     ]
    },
    {
     "cell_type": "markdown",
     "metadata": {},
     "source": [
      "    $ cd /users/vlad\n",
      "    $"
     ]
    },
    {
     "cell_type": "markdown",
     "metadata": {},
     "source": [
      "but it's almost always simpler to use `cd\u00a0..` to go up one level:"
     ]
    },
    {
     "cell_type": "markdown",
     "metadata": {},
     "source": [
      "    $ pwd\n",
      "    /users/vlad/data\n",
      "    $ cd .."
     ]
    },
    {
     "cell_type": "markdown",
     "metadata": {},
     "source": [
      "`..` is a special directory name meaning \"the directory containing this\n",
      "one\", or, more succinctly, the [parent](glossary.html#parent-directory)\n",
      "of the current directory. Sure enough, if we run `pwd` after running\n",
      "`cd\u00a0..`, we're back in `/users/vlad`:"
     ]
    },
    {
     "cell_type": "markdown",
     "metadata": {},
     "source": [
      "    $ pwd\n",
      "    /users/vlad\n",
      "    $"
     ]
    },
    {
     "cell_type": "markdown",
     "metadata": {},
     "source": [
      "The special directory `..` doesn't usually show up when we run `ls`. If\n",
      "we want to display it, we can give `ls` the `-a` flag:"
     ]
    },
    {
     "cell_type": "markdown",
     "metadata": {},
     "source": [
      "    $ ls -F -a\n",
      "    ./           ../       bin/       data/\n",
      "    mail/        music/    notes.txt  papers/\n",
      "    pizza.cfg    solar/    solar.pdf    swc/"
     ]
    },
    {
     "cell_type": "markdown",
     "metadata": {},
     "source": [
      "`-a` stands for \"show all\"; it forces `ls` to show us file and directory\n",
      "names that begin with `.`, such as `..` (which, if we're in\n",
      "`/users/vlad`, refers to the `/users` directory). As you can see, it\n",
      "also displays another special directory that's just called `.`, which\n",
      "means \"the current working directory\". It may seem redundant to have a\n",
      "name for it, but we'll see some uses for it [soon](#a:move-to-here)."
     ]
    },
    {
     "cell_type": "markdown",
     "metadata": {},
     "source": [
      "### *Orthogonality*\n",
      "\n",
      "<em>\n",
      "    The special names `.` and `..` don't belong to `ls`; they are\n",
      "    interpreted the same way by every program. For example, if we are in\n",
      "    `/users/vlad/data`, the command `ls\u00a0..` will give us a listing of\n",
      "    `/users/vlad`. Programmers call this\n",
      "    [orthogonality](glossary.html#orthogonality): the meanings of the parts\n",
      "    are the same no matter how they're combined. Orthogonal systems tend to\n",
      "    be easier for people to learn because there are fewer special cases and\n",
      "    exceptions to keep track of.\n",
      "</em>"
     ]
    },
    {
     "cell_type": "markdown",
     "metadata": {},
     "source": [
      "### *Windows*\n",
      "\n",
      "<em>\n",
      "    Everything we have seen so far works on Unix and its descendents, such\n",
      "    as Linux and Mac OS X. Things are a bit different on Windows. A typical\n",
      "    directory path on a Windows 7 machine might be `C:\\Users\\vlad`. The\n",
      "    first part, `C:`, is a [drive letter](glossary.html#drive-letter) that\n",
      "    identifies which disk we're talking about. This notation dates back to\n",
      "    the days of floppy drives; today, different \"drives\" are usually\n",
      "    different filesystems on the network.\n",
      "</em>\n",
      "\n",
      "<em>\n",
      "    Instead of a forward slash, Windows uses a backslash to separate the\n",
      "    names in a path. This causes headaches because Unix uses backslash for\n",
      "    input of special characters. For example, if we want to put a space in a\n",
      "    filename on Unix, we would write the filename as `my\\\u00a0results.txt`.\n",
      "    Please don't ever do this, though: if you put spaces, question marks,\n",
      "    and other special characters in filenames on Unix, you can confuse the\n",
      "    shell for reasons that we'll see shortly.\n",
      "</em>\n",
      "\n",
      "<em>\n",
      "    Finally, Windows filenames and directory names are [case insensitive](glossary.html#case-insensitive): upper and lower case\n",
      "    letters mean the same thing. This means that the path name\n",
      "    `C:\\Users\\vlad` could be spelled `c:\\users\\VLAD`, `C:\\Users\\Vlad`, and\n",
      "    so on. Some people argue that this is more natural: after all, \"VLAD\" in\n",
      "    all upper case and \"Vlad\" spelled normally refer to the same person.\n",
      "    However, it causes headaches for programmers, and can be difficult for\n",
      "    people to understand if their first language doesn't use a cased\n",
      "    alphabet.\n",
      "</em>"
     ]
    },
    {
     "cell_type": "markdown",
     "metadata": {},
     "source": [
      "### *For Cygwin Users*\n",
      "\n",
      "<em>\n",
      "    [Cygwin](http://www.cygwin.org) tries to make Windows paths look more\n",
      "    like Unix paths by allowing us to use a forward slash instead of a\n",
      "    backslash as a separator. It also allows us to refer to the C drive as\n",
      "    `/cygdrive/c/` instead of as `C:`. (The latter usually works too, but\n",
      "    not always.) Paths are still case insensitive, though, which means that\n",
      "    if you try to put files called `backup.txt` (in all lower case) and\n",
      "    `Backup.txt` (with a capital 'B') into the same directory, the second\n",
      "    will overwrite the first.\n",
      "</em>\n",
      "\n",
      "<em>\n",
      "    Cygwin does something else that frequently causes confusion. By default,\n",
      "    it interprets a path like `/home/vlad` to mean `C:\\cygwin\\home\\vlad`,\n",
      "    i.e., it acts as if `C:\\cygwin` was the root of the filesystem. This is\n",
      "    sometimes helpful, but if you are using an editor like Notepad, and want\n",
      "    to save a file in what Cygwin thinks of as your home directory, you need\n",
      "    to keep this translation in mind.\n",
      "</em>"
     ]
    },
    {
     "cell_type": "markdown",
     "metadata": {},
     "source": [
      "### Nelle's Pipeline: Organizing Files\n",
      "\n",
      "Knowing just this much about files and directories, Nelle is ready to\n",
      "organize the files that the protein assay machine will create. First,\n",
      "she creates a directory called `north-pacific-gyre` (to remind herself\n",
      "where the data came from). Inside that, she creates a directory called\n",
      "`2012-07-03`, which is the date she started processing the samples. She\n",
      "used to use names like `conference-paper` and `revised-results`, but she\n",
      "found them hard to understand after a couple of years. (The final straw\n",
      "was when she found herself creating a directory called\n",
      "`revised-revised-results-3`.)\n",
      "\n",
      "Each of her physical samples is labelled according to her lab's\n",
      "convention with a unique ten-character ID, such as \"NENE01729A\". This is\n",
      "what she used in her collection log to record the location, time, depth,\n",
      "and other characteristics of the sample, so she decides to use it as\n",
      "part of each data file's name. Since the assay machine's output is plain\n",
      "text, she will call her files `NENE01729A.txt`, `NENE01812A.txt`, and so\n",
      "on. All 1520 files will go into the same directory.\n",
      "\n",
      "If she is in her home directory, Nelle can see what files she has using\n",
      "the command:"
     ]
    },
    {
     "cell_type": "markdown",
     "metadata": {},
     "source": [
      "    $ ls north-pacific-gyre/2012-07-03/"
     ]
    },
    {
     "cell_type": "markdown",
     "metadata": {},
     "source": [
      "Since this is a lot to type, she can take advantage of Bash's [command completion](glossary.html#command-completion). If she types:"
     ]
    },
    {
     "cell_type": "markdown",
     "metadata": {},
     "source": [
      "    $ ls no"
     ]
    },
    {
     "cell_type": "markdown",
     "metadata": {},
     "source": [
      "and then presses tab, Bash will automatically complete the directory name for her:"
     ]
    },
    {
     "cell_type": "markdown",
     "metadata": {},
     "source": [
      "    $ ls north-pacific-gyre/"
     ]
    },
    {
     "cell_type": "markdown",
     "metadata": {},
     "source": [
      "If she presses tab again, Bash will add `2012-07-03/` to the command,\n",
      "since it's the only possible completion. Pressing tab again does\n",
      "nothing, since there are 1520 possibilities; pressing tab twice brings\n",
      "up a list of all the files, and so on. This is called [tab completion](glossary.html#tab-completion), and we will see it in many\n",
      "other tools as we go on."
     ]
    },
    {
     "cell_type": "markdown",
     "metadata": {},
     "source": [
      "## Key Points\n",
      "\n",
      "-   The file system is responsible for managing information on disk.\n",
      "-   Information is stored in files, which are stored in directories\n",
      "    (folders).\n",
      "-   Directories can also store other directories, which forms a\n",
      "    directory tree.\n",
      "-   `/` on its own is the root directory of the whole filesystem.\n",
      "-   A relative path specifies a location starting from the current\n",
      "    location.\n",
      "-   An absolute path specifies a location from the root of the\n",
      "    filesystem.\n",
      "-   Directory names in a path are separated with '/' on Unix, but '\\\\'\n",
      "    on Windows.\n",
      "-   '..' means \"the directory above the current one\"; '.' on its own\n",
      "    means \"the current directory\".\n",
      "-   Most files' names are `something.extension`; the extension isn't\n",
      "    required, and doesn't guarantee anything, but is normally used to\n",
      "    indicate the type of data in the file.\n",
      "-   `cd path` changes the current working directory.\n",
      "-   `ls path` prints a listing of a specific file or directory; `ls` on\n",
      "    its own lists the current working directory.\n",
      "-   `pwd` prints the user's current working directory (current default\n",
      "    location in the filesystem).\n",
      "-   `whoami` shows the user's current identity.\n",
      "-   Most commands take options (flags) which begin with a '-'."
     ]
    }
   ],
   "metadata": {}
  }
 ]
}