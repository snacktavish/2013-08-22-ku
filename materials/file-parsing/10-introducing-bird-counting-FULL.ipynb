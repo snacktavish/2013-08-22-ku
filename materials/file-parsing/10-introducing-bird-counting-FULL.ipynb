{
 "metadata": {
  "name": "10-introducing-bird-counting-FULL"
 },
 "nbformat": 3,
 "nbformat_minor": 0,
 "worksheets": [
  {
   "cells": [
    {
     "cell_type": "markdown",
     "metadata": {},
     "source": [
      "# Bird counting\n",
      "\n",
      "...as a simple introduction to Python and automating analyses."
     ]
    },
    {
     "cell_type": "markdown",
     "metadata": {},
     "source": [
      "Suppose we have a spreadsheet of bird sightings by day and location, and we want to analyze and summarize the data."
     ]
    },
    {
     "cell_type": "markdown",
     "metadata": {},
     "source": [
      "Let's start by making up some data of the form we want to analyze.  In a real situation, this data would generally be taken from the real data -- but, since this is an entirely fictional example, here we're going to just construct some test data.\n",
      "\n",
      "The most important thing about this test data is that it should be *small* but *realistic*.  We'll talk about \"realistic\" later -- for now, *small* is the key thing, because it lets you think about what your code *should* be doing."
     ]
    },
    {
     "cell_type": "code",
     "collapsed": false,
     "input": [
      "%%file birds.txt\n",
      "robin,kentucky,may 23\n",
      "robin,west virginia,may 24\n",
      "seagull,maine,may 24\n",
      "chickadee,kentucky,june 1\n",
      "seagull,maine,june 1"
     ],
     "language": "python",
     "metadata": {},
     "outputs": [
      {
       "output_type": "stream",
       "stream": "stdout",
       "text": [
        "Overwriting birds.txt\n"
       ]
      }
     ],
     "prompt_number": 2
    },
    {
     "cell_type": "markdown",
     "metadata": {},
     "source": [
      "Let's start by parsing the file 'birds.txt' that we created above.\n",
      "\n",
      "\"Parsing\" means \"reading in data that's in some format\".  Here, we're looking at a file that is in a spreadsheet format, with each record separated by commas -- a \"comma separated value\" format file.  Python has a built-in library, 'csv', that can read a wide variety of columnar formats.\n",
      "\n",
      "@@docs for csv"
     ]
    },
    {
     "cell_type": "code",
     "collapsed": false,
     "input": [
      "# Let's start by reading in each line of the file, one by one.\n",
      "fp = file('birds.txt', 'rb')\n",
      "for line in fp:\n",
      "    print line"
     ],
     "language": "python",
     "metadata": {},
     "outputs": [
      {
       "output_type": "stream",
       "stream": "stdout",
       "text": [
        "robin,kentucky,may 23\n",
        "\n",
        "robin,west virginia,may 24\n",
        "\n",
        "seagull,maine,may 24\n",
        "\n",
        "chickadee,kentucky,june 1\n",
        "\n",
        "seagull,maine,june 1\n"
       ]
      }
     ],
     "prompt_number": 3
    },
    {
     "cell_type": "markdown",
     "metadata": {},
     "source": [
      "Note that each line has an extra carriage return or newline after it, because 'print' adds it.  You can disable that by putting a ',' after 'line' in the print statement, which tells 'print' not to do that.  (Try it out!)"
     ]
    },
    {
     "cell_type": "markdown",
     "metadata": {},
     "source": [
      "There are a variety of ways to load this file into Python so that we can work with it.  One way would be to use Python string functions to break each line up by commas, but this will not always work on complicated csv files.  So instead let's use the csv\n",
      "module."
     ]
    },
    {
     "cell_type": "code",
     "collapsed": false,
     "input": [
      "import csv\n",
      "fp = file('birds.txt', 'rb')\n",
      "reader = csv.reader(fp)\n",
      "for bird, state, day in reader:\n",
      "    print bird, '/', state, '/', day\n",
      "    "
     ],
     "language": "python",
     "metadata": {},
     "outputs": [
      {
       "output_type": "stream",
       "stream": "stdout",
       "text": [
        "robin / kentucky / may 23\n",
        "robin / west virginia / may 24\n",
        "seagull / maine / may 24\n",
        "chickadee / kentucky / june 1\n",
        "seagull / maine / june 1\n"
       ]
      }
     ],
     "prompt_number": 4
    },
    {
     "cell_type": "markdown",
     "metadata": {},
     "source": [
      "The next problem here is that we are not actually doing anything with this data other than printing it out!\n"
     ]
    },
    {
     "cell_type": "markdown",
     "metadata": {},
     "source": [
      "## Storing things in lists and asking questions of the lists"
     ]
    },
    {
     "cell_type": "markdown",
     "metadata": {},
     "source": [
      "Let's suppose we want to ask some questions -- like, \"how many chickadees did we see\"?  That's pretty easy to do with the above code --"
     ]
    },
    {
     "cell_type": "code",
     "collapsed": false,
     "input": [
      "import csv\n",
      "fp = file('birds.txt', 'rb')\n",
      "reader = csv.reader(fp)\n",
      "\n",
      "n = 0\n",
      "for bird, state, day in reader:\n",
      "    if bird == 'chickadee':\n",
      "        n += 1\n",
      "\n",
      "print 'we saw', n, 'chickadees'"
     ],
     "language": "python",
     "metadata": {},
     "outputs": [
      {
       "output_type": "stream",
       "stream": "stdout",
       "text": [
        "we saw 1 chickadees\n"
       ]
      }
     ],
     "prompt_number": 5
    },
    {
     "cell_type": "markdown",
     "metadata": {},
     "source": [
      "There are two different problems with this approach, though.\n",
      "\n",
      "First, every time you want to count the number of times you see a particular bird, you have to do all the file parsing and for loop stuff enough.  While inefficient, the inefficiency isn't that bad -- the real problem is that you're virtually guaranteed to screw up if you copy and paste the code multiple times.  (The computing principle underlying all of this is \"Don't Repeat Yourself\", or \"DRY\".)  So what we really want to do is *store* the results of reading in the file *once*, and then use those results again and again.\n",
      "\n",
      "The second problem is that every time we want to count a new bird, we need to replace 'chickadee' in multiple places.  We'll fix that in a moment."
     ]
    },
    {
     "cell_type": "code",
     "collapsed": false,
     "input": [
      "# define an empty list\n",
      "birdlist = []\n",
      "\n",
      "fp = file('birds.txt', 'rb')\n",
      "reader = csv.reader(fp)\n",
      "\n",
      "n = 0\n",
      "for bird, state, day in reader:\n",
      "    birdlist.append(bird)\n",
      "\n",
      "print 'we saw', birdlist.count('chickadee'), 'chickadees'"
     ],
     "language": "python",
     "metadata": {},
     "outputs": [
      {
       "output_type": "stream",
       "stream": "stdout",
       "text": [
        "we saw 1 chickadees\n"
       ]
      }
     ],
     "prompt_number": 6
    },
    {
     "cell_type": "code",
     "collapsed": false,
     "input": [
      "print 'we saw', birdlist.count('robin'), 'robins'"
     ],
     "language": "python",
     "metadata": {},
     "outputs": [
      {
       "output_type": "stream",
       "stream": "stdout",
       "text": [
        "we saw 2 robins\n"
       ]
      }
     ],
     "prompt_number": 7
    },
    {
     "cell_type": "markdown",
     "metadata": {},
     "source": [
      "OK, so here we're using a list to keep track of all of the birds and then we're just using a feature of lists in Python to ask for the counts of whatever bird we're interested in.  Good stuff.\n",
      "\n",
      "What next?  Let's solve the next problem, which is that we kind of want to wrap all of this up nicely so that we can reuse the code generically -- without specifying either the specific filename in advance, or which bird we want to count."
     ]
    },
    {
     "cell_type": "code",
     "collapsed": false,
     "input": [
      "# to do this, define functions\n",
      "def read_birdlist(filename):\n",
      "    birdlist = []\n",
      "\n",
      "    fp = file('birds.txt', 'rb')\n",
      "    reader = csv.reader(fp)\n",
      "\n",
      "    n = 0\n",
      "    for bird, state, day in reader:\n",
      "        birdlist.append(bird)\n",
      "        \n",
      "    return birdlist\n",
      "\n",
      "def print_birdcount(birdlist, bird):\n",
      "    print 'we saw', birdlist.count(bird), 'of bird type', bird\n",
      "    "
     ],
     "language": "python",
     "metadata": {},
     "outputs": [],
     "prompt_number": 8
    },
    {
     "cell_type": "code",
     "collapsed": false,
     "input": [
      "birdlist = read_birdlist('birds.txt')\n",
      "print_birdcount(birdlist, 'robin')\n",
      "print_birdcount(birdlist, 'chickadee')"
     ],
     "language": "python",
     "metadata": {},
     "outputs": [
      {
       "output_type": "stream",
       "stream": "stdout",
       "text": [
        "we saw 2 of bird type robin\n",
        "we saw 1 of bird type chickadee\n"
       ]
      }
     ],
     "prompt_number": 9
    },
    {
     "cell_type": "markdown",
     "metadata": {},
     "source": [
      "A few things to note -- the functions are basically copy-paste from working code, just substituting variables in where we want to be generic.  Also, we're naming the functions in nice understandable ways.  And once you have them written, you can just leave 'em alone and use them again and again."
     ]
    },
    {
     "cell_type": "markdown",
     "metadata": {},
     "source": [
      "## Making life more difficult for ourselves - expanding \"birdlist\".\n"
     ]
    },
    {
     "cell_type": "markdown",
     "metadata": {},
     "source": [
      "Notice that 'birdlist', above, doesn't contain all of the information in the 'birds.txt' file -- it just has the first column.  Let's fix that."
     ]
    },
    {
     "cell_type": "code",
     "collapsed": false,
     "input": [
      "def read_birdlist2(filename):\n",
      "    birdlist = []\n",
      "\n",
      "    fp = file(filename, 'rb')\n",
      "    reader = csv.reader(fp)\n",
      "\n",
      "    n = 0\n",
      "    for bird, state, day in reader:\n",
      "        birdlist.append((bird, state, day))\n",
      "        \n",
      "    return birdlist"
     ],
     "language": "python",
     "metadata": {},
     "outputs": [],
     "prompt_number": 10
    },
    {
     "cell_type": "code",
     "collapsed": false,
     "input": [
      "birdlist2 = read_birdlist2('birds.txt')\n",
      "print birdlist2"
     ],
     "language": "python",
     "metadata": {},
     "outputs": [
      {
       "output_type": "stream",
       "stream": "stdout",
       "text": [
        "[('robin', 'kentucky', 'may 23'), ('robin', 'west virginia', 'may 24'), ('seagull', 'maine', 'may 24'), ('chickadee', 'kentucky', 'june 1'), ('seagull', 'maine', 'june 1')]\n"
       ]
      }
     ],
     "prompt_number": 11
    },
    {
     "cell_type": "markdown",
     "metadata": {},
     "source": [
      "Here what we are doing is storing multiple values in something called a 'tuple', which is basically just a comma-seperated set of values, in a list.  This list is essentially identical to what we're reading out of the file; you can iterate over it like so:"
     ]
    },
    {
     "cell_type": "code",
     "collapsed": false,
     "input": [
      "for bird, state, day in birdlist2:\n",
      "    print bird, state, day"
     ],
     "language": "python",
     "metadata": {},
     "outputs": [
      {
       "output_type": "stream",
       "stream": "stdout",
       "text": [
        "robin kentucky may 23\n",
        "robin west virginia may 24\n",
        "seagull maine may 24\n",
        "chickadee kentucky june 1\n",
        "seagull maine june 1\n"
       ]
      }
     ],
     "prompt_number": 12
    },
    {
     "cell_type": "markdown",
     "metadata": {},
     "source": [
      "Our new problem, however, is that we cannot just use 'birdlist2.count(bird)' any more, because birdlist2 contains far more than birds -- it also contains the other information.  So what do we do?\n",
      "\n",
      "We rewrite print_birdcount appropriately, is what!"
     ]
    },
    {
     "cell_type": "code",
     "collapsed": false,
     "input": [
      "def print_birdcount2(birdlist2, bird_to_count):\n",
      "    n = 0\n",
      "    for bird, state, day in birdlist2:\n",
      "        if bird == bird_to_count:\n",
      "            n += 1\n",
      "            \n",
      "    print 'we saw', n, 'of bird type', bird_to_count\n"
     ],
     "language": "python",
     "metadata": {},
     "outputs": [],
     "prompt_number": 13
    },
    {
     "cell_type": "code",
     "collapsed": false,
     "input": [
      "print_birdcount2(birdlist2, 'robin')"
     ],
     "language": "python",
     "metadata": {},
     "outputs": [
      {
       "output_type": "stream",
       "stream": "stdout",
       "text": [
        "we saw 2 of bird type robin\n"
       ]
      }
     ],
     "prompt_number": 14
    },
    {
     "cell_type": "markdown",
     "metadata": {},
     "source": [
      "We can also write generic functions to sort things out by state, etc, by filtering the list on various rules.  Let's grab all the birds seen in kentucky:"
     ]
    },
    {
     "cell_type": "code",
     "collapsed": false,
     "input": [
      "def get_entries_by_state(birdlist2, query_state):\n",
      "    newlist = []\n",
      "    for bird, state, day in birdlist2:\n",
      "        if state == query_state:\n",
      "            newlist.append((bird, state, day))\n",
      "    return newlist"
     ],
     "language": "python",
     "metadata": {},
     "outputs": [],
     "prompt_number": 15
    },
    {
     "cell_type": "code",
     "collapsed": false,
     "input": [
      "get_entries_by_state(birdlist2, 'kentucky')"
     ],
     "language": "python",
     "metadata": {},
     "outputs": [
      {
       "output_type": "pyout",
       "prompt_number": 16,
       "text": [
        "[('robin', 'kentucky', 'may 23'), ('chickadee', 'kentucky', 'june 1')]"
       ]
      }
     ],
     "prompt_number": 16
    },
    {
     "cell_type": "markdown",
     "metadata": {},
     "source": [
      "...and, since we're getting the birds out in the same form as we're loading them in -- as lists of 3-tuples (bird, state, day), we can now apply 'print_birdcount2' as we wish:"
     ]
    },
    {
     "cell_type": "code",
     "collapsed": false,
     "input": [
      "kentucky_birds = get_entries_by_state(birdlist2, 'kentucky')\n",
      "print_birdcount2(kentucky_birds, 'chickadee')"
     ],
     "language": "python",
     "metadata": {},
     "outputs": [
      {
       "output_type": "stream",
       "stream": "stdout",
       "text": [
        "we saw 1 of bird type chickadee\n"
       ]
      }
     ],
     "prompt_number": 17
    },
    {
     "cell_type": "markdown",
     "metadata": {},
     "source": [
      "You might well ask yourself, why on earth are we doing all of this to count a list of six bird entries!?  Because now we can count *much* bigger lists, entirely automatically!"
     ]
    },
    {
     "cell_type": "markdown",
     "metadata": {},
     "source": [
      "## A bigger data set\n",
      "\n"
     ]
    },
    {
     "cell_type": "code",
     "collapsed": false,
     "input": [
      "bigbirdlist = read_birdlist2('long-birds.csv')\n",
      "print len(bigbirdlist)\n",
      "print bigbirdlist[:10]"
     ],
     "language": "python",
     "metadata": {},
     "outputs": [
      {
       "output_type": "stream",
       "stream": "stdout",
       "text": [
        "10000\n",
        "[('heron', 'michigan', 'april 24'), ('shoebill', 'kentucky', 'july 02'), ('vulture', 'new york', 'september 01'), ('flamingo', 'missouri', 'may 28'), ('common teal', 'maine', 'august 06'), ('heron', 'maine', 'august 19'), ('albatross', 'new york', 'july 13'), ('albatross', 'missouri', 'june 20'), ('heron', 'kansas', 'july 07'), ('little grebe', 'maine', 'may 24')]\n"
       ]
      }
     ],
     "prompt_number": 18
    },
    {
     "cell_type": "markdown",
     "metadata": {},
     "source": [
      "...and all of the functions etc above will work on this."
     ]
    },
    {
     "cell_type": "markdown",
     "metadata": {},
     "source": [
      "## Using sets and dictionaries\n"
     ]
    },
    {
     "cell_type": "markdown",
     "metadata": {},
     "source": [
      "So far we've been counting specific birds.  What if we just want to get the count for *all* birds rather than just one at a time??\n",
      "\n",
      "We can do this easily like so:"
     ]
    },
    {
     "cell_type": "code",
     "collapsed": false,
     "input": [
      "birdlist2 = read_birdlist2('birds.txt')\n",
      "for bird, state, day in birdlist2:\n",
      "    print_birdcount2(birdlist2, bird)"
     ],
     "language": "python",
     "metadata": {},
     "outputs": [
      {
       "output_type": "stream",
       "stream": "stdout",
       "text": [
        "we saw 2 of bird type robin\n",
        "we saw 2 of bird type robin\n",
        "we saw 2 of bird type seagull\n",
        "we saw 1 of bird type chickadee\n",
        "we saw 2 of bird type seagull\n"
       ]
      }
     ],
     "prompt_number": 19
    },
    {
     "cell_type": "markdown",
     "metadata": {},
     "source": [
      "But you probably see the hitch -- each bird count is printed as many times as it's in the list!  So, now what?\n",
      "\n",
      "We can get a *unique* list of birds by using a set, a type of Python data structure that collapses lists down into sets that contain at most one of anything:"
     ]
    },
    {
     "cell_type": "code",
     "collapsed": false,
     "input": [
      "bird_types = set()\n",
      "for bird, state, day in birdlist2:\n",
      "    bird_types.add(bird)\n",
      "    \n",
      "print bird_types"
     ],
     "language": "python",
     "metadata": {},
     "outputs": [
      {
       "output_type": "stream",
       "stream": "stdout",
       "text": [
        "set(['chickadee', 'seagull', 'robin'])\n"
       ]
      }
     ],
     "prompt_number": 20
    },
    {
     "cell_type": "code",
     "collapsed": false,
     "input": [
      "# now we can just look at the unique set of birds\n",
      "for bird_type in bird_types:\n",
      "    print_birdcount2(birdlist2, bird_type)"
     ],
     "language": "python",
     "metadata": {},
     "outputs": [
      {
       "output_type": "stream",
       "stream": "stdout",
       "text": [
        "we saw 1 of bird type chickadee\n",
        "we saw 2 of bird type seagull\n",
        "we saw 2 of bird type robin\n"
       ]
      }
     ],
     "prompt_number": 21
    },
    {
     "cell_type": "markdown",
     "metadata": {},
     "source": [
      "This all does get a little unwieldy, though, when we're talking about thousands, hundreds of thousands, or millions of records.  In that case we might just want to count *all* of the birds once, and then save the results.  Is there a way to do that?\n",
      "\n",
      "The standard way in Python to store this kind of association -- really, *any* kind of association -- is to use a dictonary, which is just a way of looking up *values* by looking at their *keys*.  To see this in action, here's a simple example:"
     ]
    },
    {
     "cell_type": "code",
     "collapsed": false,
     "input": [
      "d = {}\n",
      "d['robin'] = 1\n",
      "d['seagull'] = 2"
     ],
     "language": "python",
     "metadata": {},
     "outputs": [],
     "prompt_number": 22
    },
    {
     "cell_type": "markdown",
     "metadata": {},
     "source": [
      "This now gives us the ability to retrieve the number of birds from 'd' by asking for the value associated with that birdname:"
     ]
    },
    {
     "cell_type": "code",
     "collapsed": false,
     "input": [
      "print d['robin']"
     ],
     "language": "python",
     "metadata": {},
     "outputs": [
      {
       "output_type": "stream",
       "stream": "stdout",
       "text": [
        "1\n"
       ]
      }
     ],
     "prompt_number": 23
    },
    {
     "cell_type": "markdown",
     "metadata": {},
     "source": [
      "But how do we *construct* such a dictionary?  The simplest way (not necessarily the most efficient, but that's ok) is to just use our bits and bobs of code above, and copy paste."
     ]
    },
    {
     "cell_type": "code",
     "collapsed": false,
     "input": [
      "def make_birddict(birdlist2):\n",
      "    # first, get the unique set of birds\n",
      "    bird_types = set()\n",
      "    for bird, state, day in birdlist2:\n",
      "        bird_types.add(bird)\n",
      "    \n",
      "    # then, copy the code from print_birdcount2:\n",
      "    d = {}\n",
      "    \n",
      "    for bird_type in bird_types:\n",
      "        n = 0\n",
      "        for bird, state, day in birdlist2:\n",
      "            if bird == bird_type:\n",
      "                n += 1 \n",
      "                \n",
      "        d[bird_type] = n\n",
      "        \n",
      "    return d"
     ],
     "language": "python",
     "metadata": {},
     "outputs": [],
     "prompt_number": 24
    },
    {
     "cell_type": "code",
     "collapsed": false,
     "input": [
      "# tada!\n",
      "print make_birddict(birdlist2)"
     ],
     "language": "python",
     "metadata": {},
     "outputs": [
      {
       "output_type": "stream",
       "stream": "stdout",
       "text": [
        "{'chickadee': 1, 'seagull': 2, 'robin': 2}\n"
       ]
      }
     ],
     "prompt_number": 25
    },
    {
     "cell_type": "markdown",
     "metadata": {},
     "source": [
      "The above code is *really* inefficient, though.  You may notice that it reads through all of the entries in birdlist2 once for each bird_type.  Is there a better way to do it?\n",
      "\n",
      "Yes -- you can *update* the values in the dictionary as you go."
     ]
    },
    {
     "cell_type": "code",
     "collapsed": false,
     "input": [
      "def make_birddict2(birdlist2):\n",
      "    # first, get the unique set of birds\n",
      "    bird_types = set()\n",
      "    for bird, state, day in birdlist2:\n",
      "        bird_types.add(bird)\n",
      "    \n",
      "    # then, set the count for each bird to 0\n",
      "    d = {}\n",
      "    for bird in bird_types:\n",
      "        d[bird] = 0\n",
      "        \n",
      "    # now, go through all of the entries in birdlist2 and, for each one, increment the count in the dictionary\n",
      "    for bird, state, day in birdlist2:\n",
      "        d[bird] = d[bird] + 1\n",
      "\n",
      "    return d"
     ],
     "language": "python",
     "metadata": {},
     "outputs": [],
     "prompt_number": 26
    },
    {
     "cell_type": "code",
     "collapsed": false,
     "input": [
      "make_birddict2(birdlist2)"
     ],
     "language": "python",
     "metadata": {},
     "outputs": [
      {
       "output_type": "pyout",
       "prompt_number": 27,
       "text": [
        "{'chickadee': 1, 'robin': 2, 'seagull': 2}"
       ]
      }
     ],
     "prompt_number": 27
    },
    {
     "cell_type": "markdown",
     "metadata": {},
     "source": [
      "A good rule of thumb in Python is that any time you have nested loops, you might be able to use a dictionary to do the same thing, but more efficiently."
     ]
    },
    {
     "cell_type": "markdown",
     "metadata": {},
     "source": [
      "## Parsing dates\n",
      "\n",
      "It's all well and good to look at strings like we are, but what if we want to graph things by day collected?  We can't just use the dates as they are, because they're not numbers that you can graph by.  What we have to do is convert them into a format that Python can compare.  How?\n",
      "\n",
      "We can use the function datetime.strptime, docs here: http://docs.python.org/3.3/library/datetime.html?highlight=strptime#strftime-and-strptime-behavior"
     ]
    },
    {
     "cell_type": "code",
     "collapsed": false,
     "input": [
      "from datetime import datetime\n",
      "\n",
      "# strptime will convert strings into dates given the appropriate formatting string (see docs above)\n",
      "print datetime.strptime('may 21', '%B %d')\n",
      "\n"
     ],
     "language": "python",
     "metadata": {},
     "outputs": [
      {
       "output_type": "stream",
       "stream": "stdout",
       "text": [
        "1900-05-21 00:00:00\n"
       ]
      }
     ],
     "prompt_number": 28
    },
    {
     "cell_type": "code",
     "collapsed": false,
     "input": [
      "# we should fix that year...\n",
      "print datetime.strptime('may 21' + ' 2013', '%B %d %Y')\n"
     ],
     "language": "python",
     "metadata": {},
     "outputs": [
      {
       "output_type": "stream",
       "stream": "stdout",
       "text": [
        "2013-05-21 00:00:00\n"
       ]
      }
     ],
     "prompt_number": 29
    },
    {
     "cell_type": "code",
     "collapsed": false,
     "input": [
      "# ok -- and now we need to convert back to a straight up number.\n",
      "# If all the dates are 2013, we can just ask for day of year...\n",
      "date = datetime.strptime('may 21' + ' 2013', '%B %d %Y')\n",
      "\n",
      "day_of_year = date.strftime('%j')\n",
      "print day_of_year"
     ],
     "language": "python",
     "metadata": {},
     "outputs": [
      {
       "output_type": "stream",
       "stream": "stdout",
       "text": [
        "141\n"
       ]
      }
     ],
     "prompt_number": 30
    },
    {
     "cell_type": "code",
     "collapsed": false,
     "input": [
      "# hmm, does that actually work!?\n",
      "for bird, state, day in birdlist2:\n",
      "    date = datetime.strptime(day + ' 2013', '%B %d %Y')\n",
      "    day_of_year = date.strftime('%j')\n",
      "    print day, date, day_of_year "
     ],
     "language": "python",
     "metadata": {},
     "outputs": [
      {
       "output_type": "stream",
       "stream": "stdout",
       "text": [
        "may 23 2013-05-23 00:00:00 143\n",
        "may 24 2013-05-24 00:00:00 144\n",
        "may 24 2013-05-24 00:00:00 144\n",
        "june 1 2013-06-01 00:00:00 152\n",
        "june 1 2013-06-01 00:00:00 152\n"
       ]
      }
     ],
     "prompt_number": 31
    },
    {
     "cell_type": "markdown",
     "metadata": {},
     "source": [
      "Hey, that looks OK -- let's transform the list into something we want to plot, birds by day:"
     ]
    },
    {
     "cell_type": "code",
     "collapsed": false,
     "input": [
      "birdcount_by_day = {}\n",
      "\n",
      "for bird, state, day in birdlist2:\n",
      "    birdcount_by_day[day] = 0\n",
      "    \n",
      "for bird, state, day in birdlist2:\n",
      "    birdcount_by_day[day] = birdcount_by_day[day] + 1\n",
      "\n",
      "print birdcount_by_day\n"
     ],
     "language": "python",
     "metadata": {},
     "outputs": [
      {
       "output_type": "stream",
       "stream": "stdout",
       "text": [
        "{'may 24': 2, 'may 23': 1, 'june 1': 2}\n"
       ]
      }
     ],
     "prompt_number": 32
    },
    {
     "cell_type": "code",
     "collapsed": false,
     "input": [
      "plotme_x = []\n",
      "plotme_y = []\n",
      "\n",
      "for day in birdcount_by_day:  # note, iterating over dictionaries gives you keys\n",
      "    date = datetime.strptime(day + ' 2013', '%B %d %Y')\n",
      "    day_of_year = date.strftime('%j')\n",
      "    \n",
      "    # trick: we need to convert day_of_year into an integer\n",
      "    day_of_year = int(day_of_year)\n",
      "    \n",
      "    # retrieve birdcount\n",
      "    count = birdcount_by_day[day]\n",
      "    \n",
      "    # now add day_of_year and birdcount\n",
      "    plotme_x.append(day_of_year)\n",
      "    plotme_y.append(count)\n",
      "\n",
      "print plotme_x\n",
      "print plotme_y"
     ],
     "language": "python",
     "metadata": {},
     "outputs": [
      {
       "output_type": "stream",
       "stream": "stdout",
       "text": [
        "[144, 143, 152]\n",
        "[2, 1, 2]\n"
       ]
      }
     ],
     "prompt_number": 33
    },
    {
     "cell_type": "markdown",
     "metadata": {},
     "source": [
      "## Doing some minimal graphing"
     ]
    },
    {
     "cell_type": "code",
     "collapsed": false,
     "input": [
      "plot(plotme_x, plotme_y, 'ro')"
     ],
     "language": "python",
     "metadata": {},
     "outputs": [
      {
       "output_type": "pyout",
       "prompt_number": 34,
       "text": [
        "[<matplotlib.lines.Line2D at 0x1060f6450>]"
       ]
      },
      {
       "output_type": "display_data",
       "png": "[encoded data removed]"
      }
     ],
     "prompt_number": 34
    },
    {
     "cell_type": "code",
     "collapsed": false,
     "input": [
      "plot(plotme_x, plotme_y, 'ro')\n",
      "axis(ymin=0, xmin=140, xmax=160)"
     ],
     "language": "python",
     "metadata": {},
     "outputs": [
      {
       "output_type": "pyout",
       "prompt_number": 35,
       "text": [
        "(140, 160, 0, 2.2000000000000002)"
       ]
      },
      {
       "output_type": "display_data",
       "png": "[encoded data removed]"
      }
     ],
     "prompt_number": 35
    },
    {
     "cell_type": "code",
     "collapsed": false,
     "input": [
      "# if we plot with lines, we see that because the points aren't sorted, we don't get what we expect.\n",
      "plot(plotme_x, plotme_y, 'r-')\n",
      "axis(ymin=0, xmin=140, xmax=160)"
     ],
     "language": "python",
     "metadata": {},
     "outputs": [
      {
       "output_type": "pyout",
       "prompt_number": 36,
       "text": [
        "(140, 160, 0, 2.2000000000000002)"
       ]
      },
      {
       "output_type": "display_data",
       "png": "[encoded data removed]"
      }
     ],
     "prompt_number": 36
    },
    {
     "cell_type": "code",
     "collapsed": false,
     "input": [
      "# how do we fix this?  one way is to zip the two lists together, sort them, and pull them back out...\n",
      "plotme_all = zip(plotme_x, plotme_y)\n",
      "plotme_all.sort()\n",
      "\n",
      "plotme_x = []\n",
      "plotme_y = []\n",
      "for (x, y) in plotme_all:\n",
      "    plotme_x.append(x)\n",
      "    plotme_y.append(y)\n",
      "\n",
      "print plotme_x"
     ],
     "language": "python",
     "metadata": {},
     "outputs": [
      {
       "output_type": "stream",
       "stream": "stdout",
       "text": [
        "[143, 144, 152]\n"
       ]
      }
     ],
     "prompt_number": 37
    },
    {
     "cell_type": "code",
     "collapsed": false,
     "input": [
      "# tada...\n",
      "plot(plotme_x, plotme_y, 'r-')\n",
      "axis(ymin=0, xmin=140, xmax=160)"
     ],
     "language": "python",
     "metadata": {},
     "outputs": [
      {
       "output_type": "pyout",
       "prompt_number": 38,
       "text": [
        "(140, 160, 0, 2.2000000000000002)"
       ]
      },
      {
       "output_type": "display_data",
       "png": "[encoded data removed]"
      }
     ],
     "prompt_number": 38
    },
    {
     "cell_type": "markdown",
     "metadata": {},
     "source": [
      "Let's do this for a BIG bird list next."
     ]
    },
    {
     "cell_type": "code",
     "collapsed": false,
     "input": [
      "bigbirdcount_by_day = {}\n",
      "\n",
      "for bird, state, day in bigbirdlist:\n",
      "    bigbirdcount_by_day[day] = 0\n",
      "    \n",
      "for bird, state, day in bigbirdlist:\n",
      "    bigbirdcount_by_day[day] = bigbirdcount_by_day[day] + 1\n"
     ],
     "language": "python",
     "metadata": {},
     "outputs": [],
     "prompt_number": 39
    },
    {
     "cell_type": "code",
     "collapsed": false,
     "input": [
      "plotme = []\n",
      "\n",
      "for day in bigbirdcount_by_day:  # note, iterating over dictionaries gives you keys\n",
      "    date = datetime.strptime(day + ' 2013', '%B %d %Y')\n",
      "    day_of_year = date.strftime('%j')\n",
      "    \n",
      "    # trick: we need to convert day_of_year into an integer\n",
      "    day_of_year = int(day_of_year)\n",
      "    \n",
      "    # retrieve birdcount\n",
      "    count = bigbirdcount_by_day[day]\n",
      "    \n",
      "    # now add day_of_year and birdcount\n",
      "    plotme.append((day_of_year, count))\n",
      "\n",
      "    \n",
      "plotme.sort()\n",
      "print plotme[:5]"
     ],
     "language": "python",
     "metadata": {},
     "outputs": [
      {
       "output_type": "stream",
       "stream": "stdout",
       "text": [
        "[(2, 1), (14, 1), (25, 1), (31, 1), (32, 1)]\n"
       ]
      }
     ],
     "prompt_number": 40
    },
    {
     "cell_type": "code",
     "collapsed": false,
     "input": [
      "plotme_x = []\n",
      "plotme_y = []\n",
      "for (x, y) in plotme:\n",
      "    plotme_x.append(x)\n",
      "    plotme_y.append(y)\n",
      "\n"
     ],
     "language": "python",
     "metadata": {},
     "outputs": [],
     "prompt_number": 41
    },
    {
     "cell_type": "code",
     "collapsed": false,
     "input": [
      "plot(plotme_x, plotme_y, 'r-')"
     ],
     "language": "python",
     "metadata": {},
     "outputs": [
      {
       "output_type": "pyout",
       "prompt_number": 42,
       "text": [
        "[<matplotlib.lines.Line2D at 0x1061ab390>]"
       ]
      },
      {
       "output_type": "display_data",
       "png": "[encoded data removed]"
      }
     ],
     "prompt_number": 42
    },
    {
     "cell_type": "code",
     "collapsed": false,
     "input": [
      "birdlist = read_birdlist2('long-birds.csv')\n",
      "bird_dict = make_birddict2(birdlist)"
     ],
     "language": "python",
     "metadata": {},
     "outputs": [],
     "prompt_number": 43
    },
    {
     "cell_type": "code",
     "collapsed": false,
     "input": [
      "labels=[]\n",
      "counts=[]\n",
      "nbirds = len(bird_dict)\n",
      "for bird,count in bird_dict.iteritems():\n",
      "    labels.append(bird)\n",
      "    counts.append(count)"
     ],
     "language": "python",
     "metadata": {},
     "outputs": [],
     "prompt_number": 52
    },
    {
     "cell_type": "code",
     "collapsed": false,
     "input": [
      "fig = plt.figure()\n",
      "ax = fig.add_subplot(1,1,1)\n",
      "\n",
      "xlocations = numpy.arange(nbirds)\n",
      "print xlocations\n",
      "width = 0.6 \n",
      "bars = ax.bar(xlocations, counts, width=width)\n",
      "xtickNames = ax.set_xticklabels(labels)\n",
      "ax.set_xticks(xlocations-0.1)\n",
      "plt.setp(xtickNames, rotation=45)\n",
      "plt.show()\n",
      "ax.set_title(\"Bird counts\")"
     ],
     "language": "python",
     "metadata": {},
     "outputs": [
      {
       "output_type": "stream",
       "stream": "stdout",
       "text": [
        "[0 1 2 3 4 5 6 7 8 9]\n"
       ]
      },
      {
       "output_type": "display_data",
       "png": "[encoded data removed]"
      },
      {
       "output_type": "pyout",
       "prompt_number": 58,
       "text": [
        "<matplotlib.text.Text at 0x106b7e950>"
       ]
      }
     ],
     "prompt_number": 58
    },
    {
     "cell_type": "markdown",
     "metadata": {},
     "source": [
      "## Outputting csv"
     ]
    },
    {
     "cell_type": "markdown",
     "metadata": {},
     "source": [
      "This is all fine and well, you say, but your advisor wants a spreadsheet.  Or you want one.  Let's say, you want to take all your big bird list and just print out the ones that are from kentucky into a spreadsheet.  How would you do that?\n",
      "\n",
      "Basically, you want to create a 'csv' file, and, conveniently, the 'csv' module contains routines to help do that!  Instead of 'csv.reader', you use 'csv.writer'."
     ]
    },
    {
     "cell_type": "code",
     "collapsed": false,
     "input": [
      "# start by picking out the birds we want to save:\n",
      "birdlist2 = read_birdlist2('birds.txt')\n",
      "print birdlist2"
     ],
     "language": "python",
     "metadata": {},
     "outputs": [
      {
       "output_type": "stream",
       "stream": "stdout",
       "text": [
        "[('robin', 'kentucky', 'may 23'), ('robin', 'west virginia', 'may 24'), ('seagull', 'maine', 'may 24'), ('chickadee', 'kentucky', 'june 1'), ('seagull', 'maine', 'june 1')]\n"
       ]
      }
     ],
     "prompt_number": 44
    },
    {
     "cell_type": "code",
     "collapsed": false,
     "input": [
      "kentucky_birds = []\n",
      "for bird, state, date in birdlist2:\n",
      "    if state == 'kentucky':\n",
      "        kentucky_birds.append((bird, date))\n",
      "        \n",
      "print kentucky_birds"
     ],
     "language": "python",
     "metadata": {},
     "outputs": [
      {
       "output_type": "stream",
       "stream": "stdout",
       "text": [
        "[('robin', 'may 23'), ('chickadee', 'june 1')]\n"
       ]
      }
     ],
     "prompt_number": 45
    },
    {
     "cell_type": "code",
     "collapsed": false,
     "input": [
      "import csv\n",
      "\n",
      "# now, open a file for writing, and use 'csv.writer' to write rows to it.\n",
      "# just for grins, use tab for a delimiter, instead of a comma.\n",
      "fp = file('kentucky-birds.tsv', 'wb')\n",
      "w = csv.writer(fp, delimiter='\\t') # <- use tab instead of the default, which is a comma\n",
      "\n",
      "for bird, date in kentucky_birds:\n",
      "    row = (bird, date)\n",
      "    w.writerow(row)\n",
      "fp.close()"
     ],
     "language": "python",
     "metadata": {},
     "outputs": [],
     "prompt_number": 46
    },
    {
     "cell_type": "code",
     "collapsed": false,
     "input": [
      "# check it out -- did it work?\n",
      "print open('kentucky-birds.tsv').read()"
     ],
     "language": "python",
     "metadata": {},
     "outputs": [
      {
       "output_type": "stream",
       "stream": "stdout",
       "text": [
        "robin\tmay 23\r\n",
        "chickadee\tjune 1\r\n",
        "\n"
       ]
      }
     ],
     "prompt_number": 47
    },
    {
     "cell_type": "markdown",
     "metadata": {},
     "source": [
      "yep!"
     ]
    },
    {
     "cell_type": "markdown",
     "metadata": {},
     "source": [
      "## Correlating across multiple files"
     ]
    },
    {
     "cell_type": "markdown",
     "metadata": {},
     "source": [
      "You might be thinking to yourself, sure, I know how to do all of that in Excel.  And heck, maybe you do.\n",
      "\n",
      "But there are three reasons you might not *want* to do it in Excel.\n",
      "\n",
      "First, by doing everything manually, your work increases in direct proportion to the number of things you want to do to the data.\n",
      "\n",
      "Second, by doing everything manually, you cause errors that give you the wrong results.\n",
      "\n",
      "And third, the trickier the analysis, the more likely it is that you introduce errors.\n",
      "\n",
      "Well, and fourth, Excel has an upper limit of 2 million rows of data."
     ]
    },
    {
     "cell_type": "markdown",
     "metadata": {},
     "source": [
      "One thing that I would never want to do with Excel is integrate two different files.  (I *have* done it, which is why I never want to do it again!)"
     ]
    },
    {
     "cell_type": "code",
     "collapsed": false,
     "input": [
      "%%file bird-weights.txt\n",
      "robin,5\n",
      "seagull,12\n",
      "chickadee,4"
     ],
     "language": "python",
     "metadata": {},
     "outputs": [
      {
       "output_type": "stream",
       "stream": "stdout",
       "text": [
        "Overwriting bird-weights.txt\n"
       ]
      }
     ],
     "prompt_number": 48
    },
    {
     "cell_type": "markdown",
     "metadata": {},
     "source": [
      "Now suppose we want to create a combined list of birds, states, weights, and dates?\n",
      "\n",
      "This kind of merge can be done by using a dictionary to associate the birds with their weights, and then output everything to another file."
     ]
    },
    {
     "cell_type": "code",
     "collapsed": false,
     "input": [
      "# first, load in the bird weights\n",
      "fp = file('bird-weights.txt', 'rb')\n",
      "r = csv.reader(fp)\n",
      "\n",
      "weight_dict = {}\n",
      "for bird, weight in r:\n",
      "    weight_dict[bird] = weight\n",
      "    \n"
     ],
     "language": "python",
     "metadata": {},
     "outputs": [],
     "prompt_number": 49
    },
    {
     "cell_type": "code",
     "collapsed": false,
     "input": [
      "# now, go through all of the birdlist2 entries\n",
      "birdlist2 = read_birdlist2('birds.txt')\n",
      "\n",
      "new_birdlist = []\n",
      "for bird, state, day in birdlist2:\n",
      "    weight = weight_dict[bird]\n",
      "    new_birdlist.append((bird,state,day,weight))\n",
      "    \n",
      "print new_birdlist"
     ],
     "language": "python",
     "metadata": {},
     "outputs": [
      {
       "output_type": "stream",
       "stream": "stdout",
       "text": [
        "[('robin', 'kentucky', 'may 23', '5'), ('robin', 'west virginia', 'may 24', '5'), ('seagull', 'maine', 'may 24', '12'), ('chickadee', 'kentucky', 'june 1', '4'), ('seagull', 'maine', 'june 1', '12')]\n"
       ]
      }
     ],
     "prompt_number": 50
    },
    {
     "cell_type": "code",
     "collapsed": false,
     "input": [
      "# what if one of the birds doesn't have a weight in the file, though?\n",
      "del weight_dict['robin']\n",
      "\n",
      "new_birdlist = []\n",
      "for bird, state, day in birdlist2:\n",
      "    weight = weight_dict[bird]\n",
      "    new_birdlist.append((bird,state,day,weight))\n",
      "    \n",
      "print new_birdlist"
     ],
     "language": "python",
     "metadata": {},
     "outputs": [
      {
       "ename": "KeyError",
       "evalue": "'robin'",
       "output_type": "pyerr",
       "traceback": [
        "\u001b[0;31m---------------------------------------------------------------------------\u001b[0m\n\u001b[0;31mKeyError\u001b[0m                                  Traceback (most recent call last)",
        "\u001b[0;32m<ipython-input-51-10d2070924bd>\u001b[0m in \u001b[0;36m<module>\u001b[0;34m()\u001b[0m\n\u001b[1;32m      4\u001b[0m \u001b[0mnew_birdlist\u001b[0m \u001b[0;34m=\u001b[0m \u001b[0;34m[\u001b[0m\u001b[0;34m]\u001b[0m\u001b[0;34m\u001b[0m\u001b[0m\n\u001b[1;32m      5\u001b[0m \u001b[0;32mfor\u001b[0m \u001b[0mbird\u001b[0m\u001b[0;34m,\u001b[0m \u001b[0mstate\u001b[0m\u001b[0;34m,\u001b[0m \u001b[0mday\u001b[0m \u001b[0;32min\u001b[0m \u001b[0mbirdlist2\u001b[0m\u001b[0;34m:\u001b[0m\u001b[0;34m\u001b[0m\u001b[0m\n\u001b[0;32m----> 6\u001b[0;31m     \u001b[0mweight\u001b[0m \u001b[0;34m=\u001b[0m \u001b[0mweight_dict\u001b[0m\u001b[0;34m[\u001b[0m\u001b[0mbird\u001b[0m\u001b[0;34m]\u001b[0m\u001b[0;34m\u001b[0m\u001b[0m\n\u001b[0m\u001b[1;32m      7\u001b[0m     \u001b[0mnew_birdlist\u001b[0m\u001b[0;34m.\u001b[0m\u001b[0mappend\u001b[0m\u001b[0;34m(\u001b[0m\u001b[0;34m(\u001b[0m\u001b[0mbird\u001b[0m\u001b[0;34m,\u001b[0m\u001b[0mstate\u001b[0m\u001b[0;34m,\u001b[0m\u001b[0mday\u001b[0m\u001b[0;34m,\u001b[0m\u001b[0mweight\u001b[0m\u001b[0;34m)\u001b[0m\u001b[0;34m)\u001b[0m\u001b[0;34m\u001b[0m\u001b[0m\n\u001b[1;32m      8\u001b[0m \u001b[0;34m\u001b[0m\u001b[0m\n",
        "\u001b[0;31mKeyError\u001b[0m: 'robin'"
       ]
      }
     ],
     "prompt_number": 51
    },
    {
     "cell_type": "code",
     "collapsed": false,
     "input": [
      "# change the code to be aware of potentially missing data:\n",
      "new_birdlist = []\n",
      "for bird, state, day in birdlist2:\n",
      "    weight = weight_dict.get(bird, -1)  # use '-1' or something patently absurd if no weight in table\n",
      "    new_birdlist.append((bird,state,day,weight))\n",
      "    \n",
      "print new_birdlist"
     ],
     "language": "python",
     "metadata": {},
     "outputs": []
    },
    {
     "cell_type": "code",
     "collapsed": false,
     "input": [
      "# and now you can output to a file, or whatever."
     ],
     "language": "python",
     "metadata": {},
     "outputs": []
    },
    {
     "cell_type": "markdown",
     "metadata": {},
     "source": [
      "## Some basic principles of this kind of computing\n",
      "\n",
      "Try to make your code easy to read.  Rather than commenting everything to death, make your function and variable names descriptive.\n",
      "\n",
      "Test out your functions on small data sets where you know the answer.\n",
      "\n",
      "The third time you find yourself performing the same query or merge, write a function to do it instead.  Corrollary: don't overplan in advance! Only do this the third time!"
     ]
    }
   ],
   "metadata": {}
  }
 ]
}