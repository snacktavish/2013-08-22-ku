{
 "metadata": {
  "name": "counting_birds"
 },
 "nbformat": 3,
 "nbformat_minor": 0,
 "worksheets": [
  {
   "cells": [
    {
     "cell_type": "raw",
     "metadata": {},
     "source": [
      "A notebook for parsing some text. First, let's make sure our input file is in this directory. "
     ]
    },
    {
     "cell_type": "code",
     "collapsed": false,
     "input": [
      "!ls"
     ],
     "language": "python",
     "metadata": {},
     "outputs": [
      {
       "output_type": "stream",
       "stream": "stdout",
       "text": [
        "bird_counts.csv       counting_birds.ipynb\r\n",
        "bird_counts.xlsx      intro_to_python.ipynb\r\n"
       ]
      }
     ],
     "prompt_number": 1
    },
    {
     "cell_type": "raw",
     "metadata": {},
     "source": [
      "Opening the file using the default file reader. The 'rU' option means read ('r') and correct for heterogenious file endings ('U')"
     ]
    },
    {
     "cell_type": "code",
     "collapsed": false,
     "input": [
      "fp = open('bird_counts.csv','rU')\n",
      "for line in fp:\n",
      "    print line"
     ],
     "language": "python",
     "metadata": {},
     "outputs": [
      {
       "output_type": "stream",
       "stream": "stdout",
       "text": [
        "robin,kentucky,23-May\n",
        "\n",
        "bluebird,north carolina,24-May\n",
        "\n",
        "robin,kansas,25-May\n",
        "\n",
        "mallard duck,kansas,27-Apr\n",
        "\n",
        "seagull,illinois,14-Apr\n"
       ]
      }
     ],
     "prompt_number": 5
    },
    {
     "cell_type": "raw",
     "metadata": {},
     "source": [
      "The output here is double-spaced because the print command puts a newline at the end of every line. You can put a ',' at the end of the line to surpress that. A better solution is to use the specialized csv module. "
     ]
    },
    {
     "cell_type": "code",
     "collapsed": false,
     "input": [
      "import csv"
     ],
     "language": "python",
     "metadata": {},
     "outputs": [],
     "prompt_number": 14
    },
    {
     "cell_type": "code",
     "collapsed": false,
     "input": [
      "fp = open('bird_counts.csv','rU')\n",
      "reader = csv.reader(fp)\n",
      "for bird,state,date in reader:\n",
      "    print bird,state,date"
     ],
     "language": "python",
     "metadata": {},
     "outputs": [
      {
       "output_type": "stream",
       "stream": "stdout",
       "text": [
        "robin kentucky 23-May\n",
        "bluebird north carolina 24-May\n",
        "robin kansas 25-May\n",
        "mallard duck kansas 27-Apr\n",
        "seagull illinois 14-Apr\n"
       ]
      }
     ],
     "prompt_number": 15
    },
    {
     "cell_type": "raw",
     "metadata": {},
     "source": [
      "Let's try and count how many robins we saw"
     ]
    },
    {
     "cell_type": "code",
     "collapsed": false,
     "input": [
      "fp = open('bird_counts.csv','rU')\n",
      "reader = csv.reader(fp)\n",
      "robin_count = 0\n",
      "notrobin_count = 0\n",
      "for bird,state,date in reader:\n",
      "    if bird == \"robin\":\n",
      "        robin_count += 1\n",
      "    else:\n",
      "        notrobin_count += 1\n",
      "        \n",
      "print \"We saw\",robin_count,\"robins\"\n",
      "print \"We saw\",notrobin_count,\"other birds\""
     ],
     "language": "python",
     "metadata": {},
     "outputs": [
      {
       "output_type": "stream",
       "stream": "stdout",
       "text": [
        "We saw 2 robins\n",
        "We saw 3 other birds\n"
       ]
      }
     ],
     "prompt_number": 24
    },
    {
     "cell_type": "raw",
     "metadata": {},
     "source": [
      "Let's create a function that reads the birdfile and counts a specific type of bird"
     ]
    },
    {
     "cell_type": "code",
     "collapsed": false,
     "input": [
      "def read_birdlist(filename,birdname):\n",
      "    fp = open(filename,'rU')\n",
      "    reader = csv.reader(fp)\n",
      "    bird_count=0\n",
      "    for bird,state,date in reader:\n",
      "        if bird == birdname:\n",
      "            bird_count += 1\n",
      "    return bird_count\n",
      "\n",
      "type_bird = \"mallard duck\"\n",
      "number_bluebirds = read_birdlist(\"bird_counts.csv\",type_bird)\n",
      "print \"We saw\",number_bluebirds,type_bird\n",
      "    "
     ],
     "language": "python",
     "metadata": {},
     "outputs": [
      {
       "output_type": "stream",
       "stream": "stdout",
       "text": [
        "We saw 1 mallard duck\n"
       ]
      }
     ],
     "prompt_number": 31
    },
    {
     "cell_type": "raw",
     "metadata": {},
     "source": [
      "Exercise: Build a set of the unique types of birds contained in the file"
     ]
    },
    {
     "cell_type": "code",
     "collapsed": false,
     "input": [
      "def read_uniqueBirdlist(filename):\n",
      "    fp=open(filename,'rU')\n",
      "    reader = csv.reader(fp)\n",
      "    bird_types=[]\n",
      "    for bird,state,date in reader:\n",
      "        bird_types.append(bird)\n",
      "    \n",
      "    bT=set(bird_types)\n",
      "    return bT\n",
      "uni_birds=read_uniqueBirdlist('bird_counts.csv')\n",
      "for birds in uni_birds:\n",
      "    print birds"
     ],
     "language": "python",
     "metadata": {},
     "outputs": [
      {
       "output_type": "stream",
       "stream": "stdout",
       "text": [
        "seagull\n",
        "mallard duck\n",
        "robin\n",
        "bluebird\n"
       ]
      }
     ],
     "prompt_number": 29
    },
    {
     "cell_type": "raw",
     "metadata": {},
     "source": [
      "This examples works (yay!) but could be more efficient by creating the set directly using the add method, rather than creating a list first and then creating the set from the list. Here is a more efficient solution:"
     ]
    },
    {
     "cell_type": "code",
     "collapsed": false,
     "input": [
      "filename = \"bird_counts.csv\"\n",
      "fp=open(filename,'rU')\n",
      "reader = csv.reader(fp)\n",
      "unique_birds = set()\n",
      "for bird,state,date in reader:\n",
      "    unique_birds.add(bird)\n",
      "print unique_birds"
     ],
     "language": "python",
     "metadata": {},
     "outputs": [
      {
       "output_type": "stream",
       "stream": "stdout",
       "text": [
        "set(['seagull', 'mallard duck', 'robin', 'bluebird'])\n"
       ]
      }
     ],
     "prompt_number": 30
    },
    {
     "cell_type": "code",
     "collapsed": false,
     "input": [],
     "language": "python",
     "metadata": {},
     "outputs": []
    }
   ],
   "metadata": {}
  }
 ]
}